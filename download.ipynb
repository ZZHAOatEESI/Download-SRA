{
 "cells": [
  {
   "cell_type": "code",
   "execution_count": 68,
   "metadata": {},
   "outputs": [],
   "source": [
    "# parse SRA metadata\n",
    "import pandas as pd\n",
    "data = pd.read_csv('SraRunTable.txt', header = 0, sep = '\\t')\n",
    "sample_id = data['Sample_Name'].tolist()\n",
    "sra_id = data['Run'].tolist()\n",
    "\n",
    "label = pd.read_csv('Gevers_meta_data.csv', header = 0, sep = ',')\n",
    "sample_id_label = label['sample'].tolist()\n",
    "pcdai_label = label['PCDAI'].tolist()\n",
    "diag_label = label['Diagnosis'].tolist()\n",
    "\n",
    "sample_id_label = [item.replace('-', '').replace('.', '') for item in sample_id_label]\n",
    "sample2sra = {}\n",
    "for sample_id_item, sra_id_item in zip(sample_id, sra_id):\n",
    "    sample_id_item = sample_id_item.replace('_', '').replace('-', '')\n",
    "    if '.' in sample_id_item:\n",
    "        sample_id_item = sample_id_item.split('.')[1]\n",
    "    if sample_id_item in sample_id_label:\n",
    "        sample2sra[sample_id_item] = sra_id_item\n",
    "        \n",
    "sra_list = []\n",
    "diag_list = []\n",
    "pcdai_list = []\n",
    "for sample_id_label_item, diag_label_item, pcdai_label_item in zip(sample_id_label, diag_label, pcdai_label):\n",
    "    sra_list.append(sample2sra[sample_id_label_item])\n",
    "    diag_list.append(diag_label_item)\n",
    "    pcdai_list.append(pcdai_label_item)\n",
    "d = {'SRA': sra_list, 'Diag': diag_list, 'PCDAI': pcdai_list}\n",
    "df = pd.DataFrame(data=d)    \n",
    "df.to_csv('meta_data_cleaned.csv')"
   ]
  },
  {
   "cell_type": "code",
   "execution_count": 13,
   "metadata": {},
   "outputs": [],
   "source": [
    "# download\n",
    "import pandas as pd\n",
    "import ftplib\n",
    "\n",
    "meta_data= pd.read_csv('meta_data_cleaned.csv', header = 0, sep = ',')\n",
    "sra_list = meta_data['SRA'].tolist()\n",
    "sever_ip = 'ftp-trace.ncbi.nlm.nih.gov'\n",
    "\n",
    "def ftp_download(sever_ip, path, filename):\n",
    "    \n",
    "    ftp = ftplib.FTP(sever_ip) \n",
    "    ftp.login() \n",
    "    ftp.cwd(path)\n",
    "    ftp.retrbinary(\"RETR \" + filename, open('sra_data/' + filename, 'wb').write)\n",
    "    ftp.quit()\n",
    "    \n",
    "    return\n",
    "\n",
    "\n",
    "fw = open('LOG.DOWNLOAD_SRA.txt', 'w+')\n",
    "for sra_id in sra_list[:2]:\n",
    "    path = 'sra/sra-instant/reads/ByStudy/sra/SRP/SRP040/SRP040765/' + sra_id + '/'\n",
    "    filename = sra_id + '.sra'\n",
    "    try:\n",
    "        ftp_download(sever_ip, path, filename)\n",
    "    except:\n",
    "        fw.write(filename + ' failed' + '\\n')\n",
    "fw.close() "
   ]
  },
  {
   "cell_type": "code",
   "execution_count": null,
   "metadata": {},
   "outputs": [],
   "source": []
  }
 ],
 "metadata": {
  "anaconda-cloud": {},
  "kernelspec": {
   "display_name": "Python [default]",
   "language": "python",
   "name": "python3"
  },
  "language_info": {
   "codemirror_mode": {
    "name": "ipython",
    "version": 3
   },
   "file_extension": ".py",
   "mimetype": "text/x-python",
   "name": "python",
   "nbconvert_exporter": "python",
   "pygments_lexer": "ipython3",
   "version": "3.5.4"
  }
 },
 "nbformat": 4,
 "nbformat_minor": 2
}
